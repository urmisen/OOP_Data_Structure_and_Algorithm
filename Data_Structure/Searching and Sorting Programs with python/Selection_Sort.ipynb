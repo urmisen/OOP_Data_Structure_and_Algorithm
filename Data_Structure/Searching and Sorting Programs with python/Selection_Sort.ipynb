{
  "nbformat": 4,
  "nbformat_minor": 0,
  "metadata": {
    "colab": {
      "name": "  Selection_Sort.ipynb",
      "provenance": [],
      "collapsed_sections": []
    },
    "kernelspec": {
      "name": "python3",
      "display_name": "Python 3"
    }
  },
  "cells": [
    {
      "cell_type": "markdown",
      "metadata": {
        "id": "eSlCTBBhvHeP"
      },
      "source": [
        "### **Python Program for Selection Sort**\r\n",
        "\r\n",
        "The selection sort algorithm sorts an array by repeatedly finding the minimum element (considering ascending order) from unsorted part and putting it at the beginning. "
      ]
    },
    {
      "cell_type": "code",
      "metadata": {
        "colab": {
          "base_uri": "https://localhost:8080/"
        },
        "id": "HEM_sUtkGavb",
        "outputId": "4b5c8df2-12a6-4464-836e-4c14f58c67e3"
      },
      "source": [
        "# Python program for implementation of Selection \r\n",
        "# Sort \r\n",
        "import sys \r\n",
        "A = [64, 25, 12, 22, 11] \r\n",
        "\r\n",
        "# Traverse through all array elements \r\n",
        "for i in range(len(A)): \r\n",
        "\t\r\n",
        "\t# Find the minimum element in remaining \r\n",
        "\t# unsorted array \r\n",
        "\tmin_idx = i \r\n",
        "\tfor j in range(i+1, len(A)): \r\n",
        "\t\tif A[min_idx] > A[j]: \r\n",
        "\t\t\tmin_idx = j \r\n",
        "\t\t\t\r\n",
        "\t# Swap the found minimum element with \r\n",
        "\t# the first element\t\t \r\n",
        "\tA[i], A[min_idx] = A[min_idx], A[i] \r\n",
        "\r\n",
        "# Driver code to test above \r\n",
        "print (\"Sorted array\") \r\n",
        "for i in range(len(A)): \r\n",
        "\tprint(\"%d\" %A[i]), \r\n"
      ],
      "execution_count": 8,
      "outputs": [
        {
          "output_type": "stream",
          "text": [
            "Sorted array\n",
            "11\n",
            "12\n",
            "22\n",
            "25\n",
            "64\n"
          ],
          "name": "stdout"
        }
      ]
    },
    {
      "cell_type": "code",
      "metadata": {
        "id": "rx5a4xa43cnb"
      },
      "source": [
        ""
      ],
      "execution_count": 2,
      "outputs": []
    }
  ]
}