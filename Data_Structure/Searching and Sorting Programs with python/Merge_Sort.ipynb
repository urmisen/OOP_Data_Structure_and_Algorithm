{
  "nbformat": 4,
  "nbformat_minor": 0,
  "metadata": {
    "colab": {
      "name": "  Merge_Sort.ipynb",
      "provenance": [],
      "collapsed_sections": []
    },
    "kernelspec": {
      "name": "python3",
      "display_name": "Python 3"
    }
  },
  "cells": [
    {
      "cell_type": "markdown",
      "metadata": {
        "id": "eSlCTBBhvHeP"
      },
      "source": [
        "### **Python Program for Heap Sort**\r\n",
        "\r\n",
        "Merge Sort is a Divide and Conquer algorithm. It divides input array in two halves, calls itself for the two halves and then merges the two sorted halves. The merge() function is used for merging two halves. The merge(arr, l, m, r) is key process that assumes that arr[l..m] and arr[m+1..r] are sorted and merges the two sorted sub-arrays into one."
      ]
    },
    {
      "cell_type": "code",
      "metadata": {
        "colab": {
          "base_uri": "https://localhost:8080/"
        },
        "id": "HEM_sUtkGavb",
        "outputId": "a9452b38-a7ca-4938-c5d8-66b7434c1049"
      },
      "source": [
        "# Python program for implementation of MergeSort \r\n",
        "\r\n",
        "# Merges two subarrays of arr[]. \r\n",
        "# First subarray is arr[l..m] \r\n",
        "# Second subarray is arr[m+1..r] \r\n",
        "def merge(arr, l, m, r): \r\n",
        "\tn1 = m - l + 1\r\n",
        "\tn2 = r- m \r\n",
        "\r\n",
        "\t# create temp arrays \r\n",
        "\tL = [0] * (n1) \r\n",
        "\tR = [0] * (n2) \r\n",
        "\r\n",
        "\t# Copy data to temp arrays L[] and R[] \r\n",
        "\tfor i in range(0 , n1): \r\n",
        "\t\tL[i] = arr[l + i] \r\n",
        "\r\n",
        "\tfor j in range(0 , n2): \r\n",
        "\t\tR[j] = arr[m + 1 + j] \r\n",
        "\r\n",
        "\t# Merge the temp arrays back into arr[l..r] \r\n",
        "\ti = 0\t # Initial index of first subarray \r\n",
        "\tj = 0\t # Initial index of second subarray \r\n",
        "\tk = l\t # Initial index of merged subarray \r\n",
        "\r\n",
        "\twhile i < n1 and j < n2 : \r\n",
        "\t\tif L[i] <= R[j]: \r\n",
        "\t\t\tarr[k] = L[i] \r\n",
        "\t\t\ti += 1\r\n",
        "\t\telse: \r\n",
        "\t\t\tarr[k] = R[j] \r\n",
        "\t\t\tj += 1\r\n",
        "\t\tk += 1\r\n",
        "\r\n",
        "\t# Copy the remaining elements of L[], if there \r\n",
        "\t# are any \r\n",
        "\twhile i < n1: \r\n",
        "\t\tarr[k] = L[i] \r\n",
        "\t\ti += 1\r\n",
        "\t\tk += 1\r\n",
        "\r\n",
        "\t# Copy the remaining elements of R[], if there \r\n",
        "\t# are any \r\n",
        "\twhile j < n2: \r\n",
        "\t\tarr[k] = R[j] \r\n",
        "\t\tj += 1\r\n",
        "\t\tk += 1\r\n",
        "\r\n",
        "# l is for left index and r is right index of the \r\n",
        "# sub-array of arr to be sorted \r\n",
        "def mergeSort(arr,l,r): \r\n",
        "\tif l < r: \r\n",
        "\r\n",
        "\t\t# Same as (l+r)//2, but avoids overflow for \r\n",
        "\t\t# large l and h \r\n",
        "\t\tm = (l+(r-1))//2\r\n",
        "\r\n",
        "\t\t# Sort first and second halves \r\n",
        "\t\tmergeSort(arr, l, m) \r\n",
        "\t\tmergeSort(arr, m+1, r) \r\n",
        "\t\tmerge(arr, l, m, r) \r\n",
        "\r\n",
        "\r\n",
        "# Driver code to test above \r\n",
        "arr = [12, 11, 13, 5, 6, 7] \r\n",
        "n = len(arr) \r\n",
        "print (\"Given array is\") \r\n",
        "for i in range(n): \r\n",
        "\tprint (\"%d\" %arr[i]), \r\n",
        "\r\n",
        "mergeSort(arr,0,n-1) \r\n",
        "print (\"\\n\\nSorted array is\") \r\n",
        "for i in range(n): \r\n",
        "\tprint (\"%d\" %arr[i]), \r\n",
        "\r\n",
        "# This code is contributed by Mohit Kumra \r\n"
      ],
      "execution_count": 2,
      "outputs": [
        {
          "output_type": "stream",
          "text": [
            "Given array is\n",
            "12\n",
            "11\n",
            "13\n",
            "5\n",
            "6\n",
            "7\n",
            "\n",
            "\n",
            "Sorted array is\n",
            "5\n",
            "6\n",
            "7\n",
            "11\n",
            "12\n",
            "13\n"
          ],
          "name": "stdout"
        }
      ]
    },
    {
      "cell_type": "code",
      "metadata": {
        "id": "rx5a4xa43cnb"
      },
      "source": [
        ""
      ],
      "execution_count": 1,
      "outputs": []
    }
  ]
}