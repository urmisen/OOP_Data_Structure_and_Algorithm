{
  "nbformat": 4,
  "nbformat_minor": 0,
  "metadata": {
    "colab": {
      "name": "  Insertion_Sort.ipynb",
      "provenance": [],
      "collapsed_sections": []
    },
    "kernelspec": {
      "name": "python3",
      "display_name": "Python 3"
    }
  },
  "cells": [
    {
      "cell_type": "markdown",
      "metadata": {
        "id": "eSlCTBBhvHeP"
      },
      "source": [
        "### **Python Program for Insertion Sort**\r\n",
        "\r\n",
        "To sort an array of size n in ascending order: \r\n",
        "1. Iterate from arr[1] to arr[n] over the array. \r\n",
        "2. Compare the current element (key) to its predecessor. \r\n",
        "3. If the key element is smaller than its predecessor, compare it to the elements before. Move the greater elements one position up to make space for the swapped element."
      ]
    },
    {
      "cell_type": "code",
      "metadata": {
        "colab": {
          "base_uri": "https://localhost:8080/"
        },
        "id": "HEM_sUtkGavb",
        "outputId": "597988e1-65f9-49ed-ba96-9d0e89c189fc"
      },
      "source": [
        "# Python program for implementation of Insertion Sort\r\n",
        "\r\n",
        "# Function to do insertion sort\r\n",
        "def insertionSort(arr):\r\n",
        "\r\n",
        "\t# Traverse through 1 to len(arr)\r\n",
        "\tfor i in range(1, len(arr)):\r\n",
        "\r\n",
        "\t\tkey = arr[i]\r\n",
        "\r\n",
        "\t\t# Move elements of arr[0..i-1], that are\r\n",
        "\t\t# greater than key, to one position ahead\r\n",
        "\t\t# of their current position\r\n",
        "\t\tj = i-1\r\n",
        "\t\twhile j >= 0 and key < arr[j] :\r\n",
        "\t\t\t\tarr[j + 1] = arr[j]\r\n",
        "\t\t\t\tj -= 1\r\n",
        "\t\tarr[j + 1] = key\r\n",
        "\r\n",
        "\r\n",
        "# Driver code to test above\r\n",
        "arr = [12, 11, 13, 5, 6]\r\n",
        "insertionSort(arr)\r\n",
        "for i in range(len(arr)):\r\n",
        "\tprint (\"% d\" % arr[i])\r\n",
        "\r\n",
        "# This code is contributed by Mohit Kumra\r\n"
      ],
      "execution_count": 6,
      "outputs": [
        {
          "output_type": "stream",
          "text": [
            " 5\n",
            " 6\n",
            " 11\n",
            " 12\n",
            " 13\n"
          ],
          "name": "stdout"
        }
      ]
    },
    {
      "cell_type": "code",
      "metadata": {
        "id": "rx5a4xa43cnb"
      },
      "source": [
        ""
      ],
      "execution_count": 2,
      "outputs": []
    }
  ]
}