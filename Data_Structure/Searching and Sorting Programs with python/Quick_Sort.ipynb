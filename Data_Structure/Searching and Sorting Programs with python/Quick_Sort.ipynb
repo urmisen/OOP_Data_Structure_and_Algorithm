{
  "nbformat": 4,
  "nbformat_minor": 0,
  "metadata": {
    "colab": {
      "name": "  Quick_Sort.ipynb",
      "provenance": [],
      "collapsed_sections": []
    },
    "kernelspec": {
      "name": "python3",
      "display_name": "Python 3"
    }
  },
  "cells": [
    {
      "cell_type": "markdown",
      "metadata": {
        "id": "eSlCTBBhvHeP"
      },
      "source": [
        "### **Python Program for QuickSort**\r\n",
        "\r\n",
        "The key process in quickSort is partition(). Target of partitions is, given an array and an element x of array as pivot, put x at its correct position in sorted array and put all smaller elements (smaller than x) before x, and put all greater elements (greater than x) after x. "
      ]
    },
    {
      "cell_type": "code",
      "metadata": {
        "colab": {
          "base_uri": "https://localhost:8080/"
        },
        "id": "HEM_sUtkGavb",
        "outputId": "4e11b63d-4473-49e7-aed1-4a4db0758922"
      },
      "source": [
        "# Python program for implementation of Quicksort Sort \r\n",
        "\r\n",
        "# This function takes last element as pivot, places \r\n",
        "# the pivot element at its correct position in sorted \r\n",
        "# array, and places all smaller (smaller than pivot) \r\n",
        "# to left of pivot and all greater elements to right \r\n",
        "# of pivot \r\n",
        "\r\n",
        "\r\n",
        "def partition(arr, low, high): \r\n",
        "\ti = (low-1)\t\t # index of smaller element \r\n",
        "\tpivot = arr[high]\t # pivot \r\n",
        "\r\n",
        "\tfor j in range(low, high): \r\n",
        "\r\n",
        "\t\t# If current element is smaller than or \r\n",
        "\t\t# equal to pivot \r\n",
        "\t\tif arr[j] <= pivot: \r\n",
        "\r\n",
        "\t\t\t# increment index of smaller element \r\n",
        "\t\t\ti = i+1\r\n",
        "\t\t\tarr[i], arr[j] = arr[j], arr[i] \r\n",
        "\r\n",
        "\tarr[i+1], arr[high] = arr[high], arr[i+1] \r\n",
        "\treturn (i+1) \r\n",
        "\r\n",
        "# The main function that implements QuickSort \r\n",
        "# arr[] --> Array to be sorted, \r\n",
        "# low --> Starting index, \r\n",
        "# high --> Ending index \r\n",
        "\r\n",
        "# Function to do Quick sort \r\n",
        "\r\n",
        "\r\n",
        "def quickSort(arr, low, high): \r\n",
        "\tif len(arr) == 1: \r\n",
        "\t\treturn arr \r\n",
        "\tif low < high: \r\n",
        "\r\n",
        "\t\t# pi is partitioning index, arr[p] is now \r\n",
        "\t\t# at right place \r\n",
        "\t\tpi = partition(arr, low, high) \r\n",
        "\r\n",
        "\t\t# Separately sort elements before \r\n",
        "\t\t# partition and after partition \r\n",
        "\t\tquickSort(arr, low, pi-1) \r\n",
        "\t\tquickSort(arr, pi+1, high) \r\n",
        "\r\n",
        "\r\n",
        "# Driver code to test above \r\n",
        "arr = [10, 7, 8, 9, 1, 5] \r\n",
        "n = len(arr) \r\n",
        "quickSort(arr, 0, n-1) \r\n",
        "print(\"Sorted array is:\") \r\n",
        "for i in range(n): \r\n",
        "\tprint(\"%d\" % arr[i]), \r\n"
      ],
      "execution_count": 7,
      "outputs": [
        {
          "output_type": "stream",
          "text": [
            "Sorted array is:\n",
            "1\n",
            "5\n",
            "7\n",
            "8\n",
            "9\n",
            "10\n"
          ],
          "name": "stdout"
        }
      ]
    },
    {
      "cell_type": "code",
      "metadata": {
        "id": "rx5a4xa43cnb"
      },
      "source": [
        ""
      ],
      "execution_count": 2,
      "outputs": []
    }
  ]
}