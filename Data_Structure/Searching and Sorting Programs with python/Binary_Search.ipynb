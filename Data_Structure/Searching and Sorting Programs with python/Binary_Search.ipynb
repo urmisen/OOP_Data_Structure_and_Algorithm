{
  "nbformat": 4,
  "nbformat_minor": 0,
  "metadata": {
    "colab": {
      "name": " Binary_Search.ipynb",
      "provenance": [],
      "collapsed_sections": []
    },
    "kernelspec": {
      "name": "python3",
      "display_name": "Python 3"
    }
  },
  "cells": [
    {
      "cell_type": "markdown",
      "metadata": {
        "id": "eSlCTBBhvHeP"
      },
      "source": [
        "### **Python Program for Binary Search (Recursive and Iterative)**\r\n",
        "\r\n",
        "This search algorithm takes advantage of a collection of elements that is already sorted by ignoring half of the elements after just one comparison. \r\n",
        "\r\n",
        "1. Compare x with the middle element.\r\n",
        "2. If x matches with the middle element, we return the mid index.\r\n",
        "3. Else if x is greater than the mid element, then x can only lie in the right (greater) half subarray after the mid element. Then we apply the algorithm again for the right half.\r\n",
        "4. Else if x is smaller, the target x must lie in the left (lower) half. So we apply the algorithm for the left half.\r\n",
        "\r\n",
        "Method #1 : Recursive "
      ]
    },
    {
      "cell_type": "code",
      "metadata": {
        "colab": {
          "base_uri": "https://localhost:8080/"
        },
        "id": "HEM_sUtkGavb",
        "outputId": "6d9be744-76a7-4acf-b596-12873a6b50e6"
      },
      "source": [
        "# Python 3 program for recursive binary search.\r\n",
        "# Modifications needed for the older Python 2 are found in comments.\r\n",
        "\r\n",
        "# Returns index of x in arr if present, else -1\r\n",
        "def binary_search(arr, low, high, x):\r\n",
        "\r\n",
        "\t# Check base case\r\n",
        "\tif high >= low:\r\n",
        "\r\n",
        "\t\tmid = (high + low) // 2\r\n",
        "\r\n",
        "\t\t# If element is present at the middle itself\r\n",
        "\t\tif arr[mid] == x:\r\n",
        "\t\t\treturn mid\r\n",
        "\r\n",
        "\t\t# If element is smaller than mid, then it can only\r\n",
        "\t\t# be present in left subarray\r\n",
        "\t\telif arr[mid] > x:\r\n",
        "\t\t\treturn binary_search(arr, low, mid - 1, x)\r\n",
        "\r\n",
        "\t\t# Else the element can only be present in right subarray\r\n",
        "\t\telse:\r\n",
        "\t\t\treturn binary_search(arr, mid + 1, high, x)\r\n",
        "\r\n",
        "\telse:\r\n",
        "\t\t# Element is not present in the array\r\n",
        "\t\treturn -1\r\n",
        "\r\n",
        "# Test array\r\n",
        "arr = [ 2, 3, 4, 10, 40 ]\r\n",
        "x = 10\r\n",
        "\r\n",
        "# Function call\r\n",
        "result = binary_search(arr, 0, len(arr)-1, x)\r\n",
        "\r\n",
        "if result != -1:\r\n",
        "\tprint(\"Element is present at index\", str(result))\r\n",
        "else:\r\n",
        "\tprint(\"Element is not present in array\")\r\n"
      ],
      "execution_count": 1,
      "outputs": [
        {
          "output_type": "stream",
          "text": [
            "Element is present at index 3\n"
          ],
          "name": "stdout"
        }
      ]
    },
    {
      "cell_type": "markdown",
      "metadata": {
        "id": "5IVGBphP3XKr"
      },
      "source": [
        "Method #2 :Iterative"
      ]
    },
    {
      "cell_type": "code",
      "metadata": {
        "colab": {
          "base_uri": "https://localhost:8080/"
        },
        "id": "QOpiOSJLc2JW",
        "outputId": "2a97412f-d9a6-492d-94cd-1e8b7364c3fe"
      },
      "source": [
        "# Iterative Binary Search Function\r\n",
        "# It returns index of x in given array arr if present,\r\n",
        "# else returns -1\r\n",
        "def binary_search(arr, x):\r\n",
        "\tlow = 0\r\n",
        "\thigh = len(arr) - 1\r\n",
        "\tmid = 0\r\n",
        "\r\n",
        "\twhile low <= high:\r\n",
        "\r\n",
        "\t\tmid = (high + low) // 2\r\n",
        "\r\n",
        "\t\t# If x is greater, ignore left half\r\n",
        "\t\tif arr[mid] < x:\r\n",
        "\t\t\tlow = mid + 1\r\n",
        "\r\n",
        "\t\t# If x is smaller, ignore right half\r\n",
        "\t\telif arr[mid] > x:\r\n",
        "\t\t\thigh = mid - 1\r\n",
        "\r\n",
        "\t\t# means x is present at mid\r\n",
        "\t\telse:\r\n",
        "\t\t\treturn mid\r\n",
        "\r\n",
        "\t# If we reach here, then the element was not present\r\n",
        "\treturn -1\r\n",
        "\r\n",
        "\r\n",
        "# Test array\r\n",
        "arr = [ 2, 3, 4, 10, 40 ]\r\n",
        "x = 10\r\n",
        "\r\n",
        "# Function call\r\n",
        "result = binary_search(arr, x)\r\n",
        "\r\n",
        "if result != -1:\r\n",
        "\tprint(\"Element is present at index\", str(result))\r\n",
        "else:\r\n",
        "\tprint(\"Element is not present in array\")\r\n"
      ],
      "execution_count": 2,
      "outputs": [
        {
          "output_type": "stream",
          "text": [
            "Element is present at index 3\n"
          ],
          "name": "stdout"
        }
      ]
    },
    {
      "cell_type": "code",
      "metadata": {
        "id": "rx5a4xa43cnb"
      },
      "source": [
        ""
      ],
      "execution_count": 2,
      "outputs": []
    }
  ]
}