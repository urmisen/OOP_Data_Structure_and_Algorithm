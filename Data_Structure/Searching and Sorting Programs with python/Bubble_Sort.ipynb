{
  "nbformat": 4,
  "nbformat_minor": 0,
  "metadata": {
    "colab": {
      "name": "  Bubble_Sort.ipynb",
      "provenance": [],
      "collapsed_sections": []
    },
    "kernelspec": {
      "name": "python3",
      "display_name": "Python 3"
    }
  },
  "cells": [
    {
      "cell_type": "markdown",
      "metadata": {
        "id": "eSlCTBBhvHeP"
      },
      "source": [
        "### **Python Program for Bubble Sort**\r\n",
        "\r\n",
        "Bubble Sort is the simplest sorting algorithm that works by repeatedly swapping the adjacent elements if they are in wrong order."
      ]
    },
    {
      "cell_type": "code",
      "metadata": {
        "colab": {
          "base_uri": "https://localhost:8080/"
        },
        "id": "HEM_sUtkGavb",
        "outputId": "437d0fa9-82a9-4816-d640-94c8b80cb1f4"
      },
      "source": [
        "# Python program for implementation of Bubble Sort \r\n",
        "\r\n",
        "def bubbleSort(arr): \r\n",
        "\tn = len(arr) \r\n",
        "\r\n",
        "\t# Traverse through all array elements \r\n",
        "\tfor i in range(n): \r\n",
        "\r\n",
        "\t\t# Last i elements are already in place \r\n",
        "\t\tfor j in range(0, n-i-1): \r\n",
        "\r\n",
        "\t\t\t# traverse the array from 0 to n-i-1 \r\n",
        "\t\t\t# Swap if the element found is greater \r\n",
        "\t\t\t# than the next element \r\n",
        "\t\t\tif arr[j] > arr[j+1] : \r\n",
        "\t\t\t\tarr[j], arr[j+1] = arr[j+1], arr[j] \r\n",
        "\r\n",
        "# Driver code to test above \r\n",
        "arr = [64, 34, 25, 12, 22, 11, 90] \r\n",
        "\r\n",
        "bubbleSort(arr) \r\n",
        "\r\n",
        "print (\"Sorted array is:\") \r\n",
        "for i in range(len(arr)): \r\n",
        "\tprint (\"%d\" %arr[i]), \r\n"
      ],
      "execution_count": 9,
      "outputs": [
        {
          "output_type": "stream",
          "text": [
            "Sorted array is:\n",
            "11\n",
            "12\n",
            "22\n",
            "25\n",
            "34\n",
            "64\n",
            "90\n"
          ],
          "name": "stdout"
        }
      ]
    },
    {
      "cell_type": "code",
      "metadata": {
        "id": "rx5a4xa43cnb"
      },
      "source": [
        ""
      ],
      "execution_count": 2,
      "outputs": []
    }
  ]
}