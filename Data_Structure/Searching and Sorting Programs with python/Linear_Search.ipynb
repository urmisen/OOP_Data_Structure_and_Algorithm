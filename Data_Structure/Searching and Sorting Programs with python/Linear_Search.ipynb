{
  "nbformat": 4,
  "nbformat_minor": 0,
  "metadata": {
    "colab": {
      "name": "  Linear Search.ipynb",
      "provenance": [],
      "collapsed_sections": []
    },
    "kernelspec": {
      "name": "python3",
      "display_name": "Python 3"
    }
  },
  "cells": [
    {
      "cell_type": "markdown",
      "metadata": {
        "id": "eSlCTBBhvHeP"
      },
      "source": [
        "### **Python Program for Linear Search**\r\n",
        "\r\n",
        "A simple approach is to do linear search, i.e\r\n",
        "\r\n",
        "* Start from the leftmost element of arr[] and one by one compare x with each element of arr[]\r\n",
        "* If x matches with an element, return the index.\r\n",
        "* If x doesn’t match with any of elements, return -1."
      ]
    },
    {
      "cell_type": "code",
      "metadata": {
        "colab": {
          "base_uri": "https://localhost:8080/"
        },
        "id": "HEM_sUtkGavb",
        "outputId": "812c738d-7b2d-461d-e6d2-f627a036c72d"
      },
      "source": [
        "# Searching an element in a list/array in python \r\n",
        "# can be simply done using \\'in\\' operator \r\n",
        "# Example: \r\n",
        "# if x in arr: \r\n",
        "# print arr.index(x) \r\n",
        "\r\n",
        "# If you want to implement Linear Search in python \r\n",
        "\r\n",
        "# Linearly search x in arr[] \r\n",
        "# If x is present then return its location \r\n",
        "# else return -1 \r\n",
        "\r\n",
        "def search(arr, x): \r\n",
        "\r\n",
        "\tfor i in range(len(arr)): \r\n",
        "\r\n",
        "\t\tif arr[i] == x: \r\n",
        "\t\t\treturn i \r\n",
        "\r\n",
        "\treturn -1\r\n",
        "\r\n",
        "# Driver Code\r\n",
        "arr = [2, 3, 4, 10, 40]\r\n",
        "x = 10\r\n",
        "n = len(arr)\r\n",
        "\r\n",
        "# Function call\r\n",
        "result = search(arr, x)\r\n",
        "if(result == -1):\r\n",
        "\tprint(\"Element is not present in array\")\r\n",
        "else:\r\n",
        "\tprint(\"Element is present at index\", result)\r\n"
      ],
      "execution_count": 5,
      "outputs": [
        {
          "output_type": "stream",
          "text": [
            "Element is present at index 3\n"
          ],
          "name": "stdout"
        }
      ]
    },
    {
      "cell_type": "code",
      "metadata": {
        "id": "rx5a4xa43cnb"
      },
      "source": [
        ""
      ],
      "execution_count": 2,
      "outputs": []
    }
  ]
}